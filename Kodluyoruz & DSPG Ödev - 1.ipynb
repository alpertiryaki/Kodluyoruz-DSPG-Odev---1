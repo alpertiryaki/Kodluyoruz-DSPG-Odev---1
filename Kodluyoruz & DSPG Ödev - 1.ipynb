{
 "cells": [
  {
   "cell_type": "markdown",
   "metadata": {},
   "source": [
    "Soru 1"
   ]
  },
  {
   "cell_type": "code",
   "execution_count": 1,
   "metadata": {},
   "outputs": [
    {
     "data": {
      "text/plain": [
       "[[12, 11, 13, 14], [22, 21, 23, 24], [32, 31, 33, 34]]"
      ]
     },
     "execution_count": 1,
     "metadata": {},
     "output_type": "execute_result"
    }
   ],
   "source": [
    "\n",
    "M = [[11, 12, 13, 14], [21, 22, 23, 24], [31, 32, 33, 34]]\n",
    "\n",
    "for i in range(len(M)):\n",
    "    m = M[i][0:2]\n",
    "    m.reverse()\n",
    "    M[i][0:2] = m\n",
    "M    "
   ]
  },
  {
   "cell_type": "code",
   "execution_count": 2,
   "metadata": {},
   "outputs": [
    {
     "data": {
      "text/plain": [
       "[[12, 11, 13, 14], [22, 21, 23, 24], [32, 31, 33, 34]]"
      ]
     },
     "execution_count": 2,
     "metadata": {},
     "output_type": "execute_result"
    }
   ],
   "source": [
    "# alternatif \n",
    "M = [[11, 12, 13, 14], [21, 22, 23, 24], [31, 32, 33, 34]]\n",
    "\n",
    "for i in M:\n",
    "    i[0],i[1] = i[1],i[0]\n",
    "M"
   ]
  },
  {
   "cell_type": "markdown",
   "metadata": {},
   "source": [
    "Soru 2"
   ]
  },
  {
   "cell_type": "code",
   "execution_count": 4,
   "metadata": {},
   "outputs": [
    {
     "name": "stdout",
     "output_type": "stream",
     "text": [
      "9\n",
      "(1, 3)\n"
     ]
    }
   ],
   "source": [
    "M = [[0, 3, 2, 4], [2, 7, 5, 9], [6, 1, 2, 3]]\n",
    "\n",
    "enb = 0\n",
    "\n",
    "for i in range(len(M)):\n",
    "    for j in range(len(M[i])):\n",
    "        if (M[i][j] > enb):\n",
    "            enb = M[i][j]\n",
    "            konum = [i,j]\n",
    "            continue\n",
    "print(enb)\n",
    "\n",
    "print(tuple(konum))"
   ]
  },
  {
   "cell_type": "markdown",
   "metadata": {},
   "source": [
    "Soru 3"
   ]
  },
  {
   "cell_type": "code",
   "execution_count": 5,
   "metadata": {},
   "outputs": [
    {
     "name": "stdout",
     "output_type": "stream",
     "text": [
      "[5, 10, 40, 3, 1, 2]\n"
     ]
    },
    {
     "data": {
      "text/plain": [
       "6"
      ]
     },
     "execution_count": 5,
     "metadata": {},
     "output_type": "execute_result"
    }
   ],
   "source": [
    "list_1 = [5, 3, 3, 10, 40]\n",
    "list_2 = [40, 3, 40, 1, 2]\n",
    "y = []\n",
    "\n",
    "for e in list_1:\n",
    "    \n",
    "     if (list_1.count(e) < 2):\n",
    "            y.extend([e])\n",
    "            continue\n",
    "\n",
    "for e in list_2:\n",
    "    \n",
    "     if (list_2.count(e) < 2):\n",
    "            y.extend([e])\n",
    "            continue            \n",
    "\n",
    "print(y)\n",
    "len(y)"
   ]
  },
  {
   "cell_type": "code",
   "execution_count": 6,
   "metadata": {},
   "outputs": [
    {
     "data": {
      "text/plain": [
       "6"
      ]
     },
     "execution_count": 6,
     "metadata": {},
     "output_type": "execute_result"
    }
   ],
   "source": [
    "# alternatif\n",
    "list_1 = [5, 3, 3, 10, 40]\n",
    "list_2 = [40, 3, 40, 1, 2]\n",
    "\n",
    "l = list_1 + list_2\n",
    "len(set(l))"
   ]
  },
  {
   "cell_type": "markdown",
   "metadata": {},
   "source": [
    "Soru 4"
   ]
  },
  {
   "cell_type": "code",
   "execution_count": 7,
   "metadata": {},
   "outputs": [
    {
     "name": "stdout",
     "output_type": "stream",
     "text": [
      "ortalama = 77.4\n",
      " Grade of Jane is above the average\n",
      " Grade of Pat is above the average\n",
      " Grade of Denis is below the average\n",
      " Grade of Max is below the average\n",
      " Grade of Lara is below the average\n"
     ]
    }
   ],
   "source": [
    "students = {\"Jane\":{\"grade\":90,\"student_number\":4012}, \n",
    "          \"Pat\":{\"grade\":81,\"student_number\":4052},\n",
    "          \"Denis\":{\"grade\":70,\"student_number\":4089},\n",
    "          \"Max\":{\"grade\":72,\"student_number\":4322},\n",
    "          \"Lara\":{\"grade\":74,\"student_number\":4042}}\n",
    "\n",
    "t = 0\n",
    "for i in students:\n",
    "    \n",
    "    t += students[i][\"grade\"]\n",
    "    ortalama = t / len(students)\n",
    "\n",
    "print(\"ortalama = \" + str(ortalama))\n",
    "\n",
    "\n",
    "for i in students:\n",
    "    if students[i][\"grade\"] > ortalama:\n",
    "        name = i\n",
    "        print(f' Grade of {name} is above the average')\n",
    "    \n",
    "    elif students[i][\"grade\"] == ortalama:\n",
    "        name = i\n",
    "        print(f' Grade of {name} is equal to the mean')\n",
    "    \n",
    "    else:\n",
    "        name = i\n",
    "        print(f' Grade of {name} is below the average')"
   ]
  },
  {
   "cell_type": "markdown",
   "metadata": {},
   "source": [
    "Soru 5"
   ]
  },
  {
   "cell_type": "code",
   "execution_count": null,
   "metadata": {},
   "outputs": [
    {
     "name": "stdout",
     "output_type": "stream",
     "text": [
      "200 tickets remaining\n"
     ]
    }
   ],
   "source": [
    "tickets = 200\n",
    "\n",
    "print(str(tickets) + \" tickets remaining\")\n",
    "\n",
    "inp = int(input(\"How many do you want to buy? Minimum 1, maximum 4: \"))\n",
    "\n",
    "while True:\n",
    "    \n",
    "    if inp == 1 or inp <= 4:\n",
    "        tickets = tickets - inp\n",
    "    \n",
    "    else:\n",
    "        continue\n",
    "\n",
    "    print(str(tickets) + \" tickets remaining\")"
   ]
  },
  {
   "cell_type": "code",
   "execution_count": null,
   "metadata": {},
   "outputs": [],
   "source": []
  }
 ],
 "metadata": {
  "kernelspec": {
   "display_name": "Python 3",
   "language": "python",
   "name": "python3"
  },
  "language_info": {
   "codemirror_mode": {
    "name": "ipython",
    "version": 3
   },
   "file_extension": ".py",
   "mimetype": "text/x-python",
   "name": "python",
   "nbconvert_exporter": "python",
   "pygments_lexer": "ipython3",
   "version": "3.7.4"
  }
 },
 "nbformat": 4,
 "nbformat_minor": 2
}
